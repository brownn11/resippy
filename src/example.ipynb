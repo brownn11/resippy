from resippy_data import recipes

import resippy

resippy.select_recipes()
